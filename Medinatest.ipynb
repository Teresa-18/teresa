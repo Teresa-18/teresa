{
 "cells": [
  {
   "cell_type": "code",
   "execution_count": 23,
   "metadata": {},
   "outputs": [],
   "source": [
    "import pandas as pd\n",
    "import numpy as np\n",
    "pymoli_df = \"Downloads/purchase_data.csv\"\n",
    "purchase_data = pd.read_csv(pymoli_df)\n"
   ]
  },
  {
   "cell_type": "markdown",
   "metadata": {},
   "source": [
    "# Player Count"
   ]
  },
  {
   "cell_type": "code",
   "execution_count": 10,
   "metadata": {},
   "outputs": [
    {
     "data": {
      "text/html": [
       "<div>\n",
       "<style scoped>\n",
       "    .dataframe tbody tr th:only-of-type {\n",
       "        vertical-align: middle;\n",
       "    }\n",
       "\n",
       "    .dataframe tbody tr th {\n",
       "        vertical-align: top;\n",
       "    }\n",
       "\n",
       "    .dataframe thead th {\n",
       "        text-align: right;\n",
       "    }\n",
       "</style>\n",
       "<table border=\"1\" class=\"dataframe\">\n",
       "  <thead>\n",
       "    <tr style=\"text-align: right;\">\n",
       "      <th></th>\n",
       "      <th>Total Players</th>\n",
       "    </tr>\n",
       "  </thead>\n",
       "  <tbody>\n",
       "    <tr>\n",
       "      <th>0</th>\n",
       "      <td>576</td>\n",
       "    </tr>\n",
       "  </tbody>\n",
       "</table>\n",
       "</div>"
      ],
      "text/plain": [
       "   Total Players\n",
       "0            576"
      ]
     },
     "execution_count": 10,
     "metadata": {},
     "output_type": "execute_result"
    }
   ],
   "source": [
    "total_players = len(purchase_data[\"SN\"].value_counts())\n",
    "player_count = pd.DataFrame({\"Total Players\":[total_players]})\n",
    "\n",
    "#df = pd.read_csv(\"Player Count\")\n",
    "player_count"
   ]
  },
  {
   "cell_type": "markdown",
   "metadata": {},
   "source": [
    "# Purchasing Analysis by Total"
   ]
  },
  {
   "cell_type": "code",
   "execution_count": 12,
   "metadata": {},
   "outputs": [
    {
     "data": {
      "text/html": [
       "<style  type=\"text/css\" >\n",
       "</style><table id=\"T_ede2ead4_1aca_11eb_b4f8_84c5a68bd48a\" ><thead>    <tr>        <th class=\"blank level0\" ></th>        <th class=\"col_heading level0 col0\" >Number of Unique Items</th>        <th class=\"col_heading level0 col1\" >Average Price</th>        <th class=\"col_heading level0 col2\" >Number of Purchases</th>        <th class=\"col_heading level0 col3\" >Total Revenue</th>    </tr></thead><tbody>\n",
       "                <tr>\n",
       "                        <th id=\"T_ede2ead4_1aca_11eb_b4f8_84c5a68bd48alevel0_row0\" class=\"row_heading level0 row0\" >0</th>\n",
       "                        <td id=\"T_ede2ead4_1aca_11eb_b4f8_84c5a68bd48arow0_col0\" class=\"data row0 col0\" >179</td>\n",
       "                        <td id=\"T_ede2ead4_1aca_11eb_b4f8_84c5a68bd48arow0_col1\" class=\"data row0 col1\" >$3.05</td>\n",
       "                        <td id=\"T_ede2ead4_1aca_11eb_b4f8_84c5a68bd48arow0_col2\" class=\"data row0 col2\" >780</td>\n",
       "                        <td id=\"T_ede2ead4_1aca_11eb_b4f8_84c5a68bd48arow0_col3\" class=\"data row0 col3\" >$2,379.77</td>\n",
       "            </tr>\n",
       "    </tbody></table>"
      ],
      "text/plain": [
       "<pandas.io.formats.style.Styler at 0x23b18e26700>"
      ]
     },
     "execution_count": 12,
     "metadata": {},
     "output_type": "execute_result"
    }
   ],
   "source": [
    "number_of_unique_items = len((purchase_data[\"Item ID\"]).unique())\n",
    "average_price = (purchase_data[\"Price\"]).mean()\n",
    "number_of_purchases = (purchase_data[\"Purchase ID\"]).count()\n",
    "total_revenue = (purchase_data[\"Price\"]).sum()\n",
    "\n",
    "summary_df = pd.DataFrame({\"Number of Unique Items\":[number_of_unique_items],\n",
    "                           \"Average Price\":[average_price], \n",
    "                           \"Number of Purchases\": [number_of_purchases], \n",
    "                           \"Total Revenue\": [total_revenue]})\n",
    "summary_df = summary_df.style.format({'Average Price':\"${:,.2f}\",\n",
    "                         'Total Revenue': '${:,.2f}'})\n",
    "summary_df"
   ]
  },
  {
   "cell_type": "markdown",
   "metadata": {},
   "source": [
    "# Gender Demographics"
   ]
  },
  {
   "cell_type": "code",
   "execution_count": 14,
   "metadata": {},
   "outputs": [
    {
     "data": {
      "text/html": [
       "<style  type=\"text/css\" >\n",
       "</style><table id=\"T_427aaa50_1acb_11eb_aeba_84c5a68bd48a\" ><thead>    <tr>        <th class=\"blank level0\" ></th>        <th class=\"col_heading level0 col0\" >Total Count</th>        <th class=\"col_heading level0 col1\" >Percentage of Players</th>    </tr></thead><tbody>\n",
       "                <tr>\n",
       "                        <th id=\"T_427aaa50_1acb_11eb_aeba_84c5a68bd48alevel0_row0\" class=\"row_heading level0 row0\" >Male</th>\n",
       "                        <td id=\"T_427aaa50_1acb_11eb_aeba_84c5a68bd48arow0_col0\" class=\"data row0 col0\" >484</td>\n",
       "                        <td id=\"T_427aaa50_1acb_11eb_aeba_84c5a68bd48arow0_col1\" class=\"data row0 col1\" >84.03%</td>\n",
       "            </tr>\n",
       "            <tr>\n",
       "                        <th id=\"T_427aaa50_1acb_11eb_aeba_84c5a68bd48alevel0_row1\" class=\"row_heading level0 row1\" >Female</th>\n",
       "                        <td id=\"T_427aaa50_1acb_11eb_aeba_84c5a68bd48arow1_col0\" class=\"data row1 col0\" >81</td>\n",
       "                        <td id=\"T_427aaa50_1acb_11eb_aeba_84c5a68bd48arow1_col1\" class=\"data row1 col1\" >14.06%</td>\n",
       "            </tr>\n",
       "            <tr>\n",
       "                        <th id=\"T_427aaa50_1acb_11eb_aeba_84c5a68bd48alevel0_row2\" class=\"row_heading level0 row2\" >Other / Non-Disclosed</th>\n",
       "                        <td id=\"T_427aaa50_1acb_11eb_aeba_84c5a68bd48arow2_col0\" class=\"data row2 col0\" >11</td>\n",
       "                        <td id=\"T_427aaa50_1acb_11eb_aeba_84c5a68bd48arow2_col1\" class=\"data row2 col1\" >1.91%</td>\n",
       "            </tr>\n",
       "    </tbody></table>"
      ],
      "text/plain": [
       "<pandas.io.formats.style.Styler at 0x23b19cd5af0>"
      ]
     },
     "execution_count": 14,
     "metadata": {},
     "output_type": "execute_result"
    }
   ],
   "source": [
    "gender_stats = purchase_data.groupby(\"Gender\")\n",
    "\n",
    "total_count_gender = gender_stats.nunique()[\"SN\"]\n",
    "percentage_of_players = total_count_gender / total_players\n",
    "gender_demo = pd.DataFrame({\"Total Count\": total_count_gender, \"Percentage of Players\": percentage_of_players})\n",
    "\n",
    "gender_demo.index.name = None\n",
    "\n",
    "gender_demo = gender_demo.sort_values([\"Total Count\"], ascending = False).style.format({\"Percentage of Players\":\"{:.2%}\"})\n",
    "gender_demo"
   ]
  },
  {
   "cell_type": "markdown",
   "metadata": {},
   "source": [
    "# Purchasing Analysis by Gender"
   ]
  },
  {
   "cell_type": "code",
   "execution_count": 15,
   "metadata": {},
   "outputs": [
    {
     "data": {
      "text/html": [
       "<style  type=\"text/css\" >\n",
       "</style><table id=\"T_5a617f5e_1acb_11eb_a446_84c5a68bd48a\" ><thead>    <tr>        <th class=\"blank level0\" ></th>        <th class=\"col_heading level0 col0\" >Purchase Count</th>        <th class=\"col_heading level0 col1\" >Average Purchase Price</th>        <th class=\"col_heading level0 col2\" >Average Purchase Value</th>        <th class=\"col_heading level0 col3\" >Avg Purchase Total per Person</th>    </tr>    <tr>        <th class=\"index_name level0\" >Gender</th>        <th class=\"blank\" ></th>        <th class=\"blank\" ></th>        <th class=\"blank\" ></th>        <th class=\"blank\" ></th>    </tr></thead><tbody>\n",
       "                <tr>\n",
       "                        <th id=\"T_5a617f5e_1acb_11eb_a446_84c5a68bd48alevel0_row0\" class=\"row_heading level0 row0\" >Female</th>\n",
       "                        <td id=\"T_5a617f5e_1acb_11eb_a446_84c5a68bd48arow0_col0\" class=\"data row0 col0\" >113</td>\n",
       "                        <td id=\"T_5a617f5e_1acb_11eb_a446_84c5a68bd48arow0_col1\" class=\"data row0 col1\" >$3.20</td>\n",
       "                        <td id=\"T_5a617f5e_1acb_11eb_a446_84c5a68bd48arow0_col2\" class=\"data row0 col2\" >$361.94</td>\n",
       "                        <td id=\"T_5a617f5e_1acb_11eb_a446_84c5a68bd48arow0_col3\" class=\"data row0 col3\" >$4.47</td>\n",
       "            </tr>\n",
       "            <tr>\n",
       "                        <th id=\"T_5a617f5e_1acb_11eb_a446_84c5a68bd48alevel0_row1\" class=\"row_heading level0 row1\" >Male</th>\n",
       "                        <td id=\"T_5a617f5e_1acb_11eb_a446_84c5a68bd48arow1_col0\" class=\"data row1 col0\" >652</td>\n",
       "                        <td id=\"T_5a617f5e_1acb_11eb_a446_84c5a68bd48arow1_col1\" class=\"data row1 col1\" >$3.02</td>\n",
       "                        <td id=\"T_5a617f5e_1acb_11eb_a446_84c5a68bd48arow1_col2\" class=\"data row1 col2\" >$1,967.64</td>\n",
       "                        <td id=\"T_5a617f5e_1acb_11eb_a446_84c5a68bd48arow1_col3\" class=\"data row1 col3\" >$4.07</td>\n",
       "            </tr>\n",
       "            <tr>\n",
       "                        <th id=\"T_5a617f5e_1acb_11eb_a446_84c5a68bd48alevel0_row2\" class=\"row_heading level0 row2\" >Other / Non-Disclosed</th>\n",
       "                        <td id=\"T_5a617f5e_1acb_11eb_a446_84c5a68bd48arow2_col0\" class=\"data row2 col0\" >15</td>\n",
       "                        <td id=\"T_5a617f5e_1acb_11eb_a446_84c5a68bd48arow2_col1\" class=\"data row2 col1\" >$3.35</td>\n",
       "                        <td id=\"T_5a617f5e_1acb_11eb_a446_84c5a68bd48arow2_col2\" class=\"data row2 col2\" >$50.19</td>\n",
       "                        <td id=\"T_5a617f5e_1acb_11eb_a446_84c5a68bd48arow2_col3\" class=\"data row2 col3\" >$4.56</td>\n",
       "            </tr>\n",
       "    </tbody></table>"
      ],
      "text/plain": [
       "<pandas.io.formats.style.Styler at 0x23b19f99e20>"
      ]
     },
     "execution_count": 15,
     "metadata": {},
     "output_type": "execute_result"
    }
   ],
   "source": [
    "purchase_count = gender_stats[\"Purchase ID\"].count()\n",
    "avg_purchase_price = gender_stats[\"Price\"].mean()\n",
    "avg_purchase_total = gender_stats[\"Price\"].sum()\n",
    "avg_purchase_per_person = avg_purchase_total/total_count_gender\n",
    "\n",
    "gender_demo = pd.DataFrame({\"Purchase Count\": purchase_count, \n",
    "                                    \"Average Purchase Price\": avg_purchase_price,\n",
    "                                    \"Average Purchase Value\":avg_purchase_total,\n",
    "                                    \"Avg Purchase Total per Person\": avg_purchase_per_person})\n",
    "\n",
    "gender_demo.index.name = \"Gender\"\n",
    "\n",
    "gender_demo = gender_demo.style.format({\"Average Purchase Value\":\"${:,.2f}\",\n",
    "                                  \"Average Purchase Price\":\"${:,.2f}\",\n",
    "                                  \"Avg Purchase Total per Person\":\"${:,.2f}\"})\n",
    "\n",
    "gender_demo"
   ]
  },
  {
   "cell_type": "markdown",
   "metadata": {},
   "source": [
    "# Age Demographics"
   ]
  },
  {
   "cell_type": "code",
   "execution_count": 17,
   "metadata": {},
   "outputs": [
    {
     "data": {
      "text/html": [
       "<style  type=\"text/css\" >\n",
       "</style><table id=\"T_85c6ef32_1acb_11eb_a273_84c5a68bd48a\" ><thead>    <tr>        <th class=\"blank level0\" ></th>        <th class=\"col_heading level0 col0\" >Total Count</th>        <th class=\"col_heading level0 col1\" >Percentage of Players</th>    </tr></thead><tbody>\n",
       "                <tr>\n",
       "                        <th id=\"T_85c6ef32_1acb_11eb_a273_84c5a68bd48alevel0_row0\" class=\"row_heading level0 row0\" ><10</th>\n",
       "                        <td id=\"T_85c6ef32_1acb_11eb_a273_84c5a68bd48arow0_col0\" class=\"data row0 col0\" >17</td>\n",
       "                        <td id=\"T_85c6ef32_1acb_11eb_a273_84c5a68bd48arow0_col1\" class=\"data row0 col1\" >2.95%</td>\n",
       "            </tr>\n",
       "            <tr>\n",
       "                        <th id=\"T_85c6ef32_1acb_11eb_a273_84c5a68bd48alevel0_row1\" class=\"row_heading level0 row1\" >10-14</th>\n",
       "                        <td id=\"T_85c6ef32_1acb_11eb_a273_84c5a68bd48arow1_col0\" class=\"data row1 col0\" >22</td>\n",
       "                        <td id=\"T_85c6ef32_1acb_11eb_a273_84c5a68bd48arow1_col1\" class=\"data row1 col1\" >3.82%</td>\n",
       "            </tr>\n",
       "            <tr>\n",
       "                        <th id=\"T_85c6ef32_1acb_11eb_a273_84c5a68bd48alevel0_row2\" class=\"row_heading level0 row2\" >15-19</th>\n",
       "                        <td id=\"T_85c6ef32_1acb_11eb_a273_84c5a68bd48arow2_col0\" class=\"data row2 col0\" >107</td>\n",
       "                        <td id=\"T_85c6ef32_1acb_11eb_a273_84c5a68bd48arow2_col1\" class=\"data row2 col1\" >18.58%</td>\n",
       "            </tr>\n",
       "            <tr>\n",
       "                        <th id=\"T_85c6ef32_1acb_11eb_a273_84c5a68bd48alevel0_row3\" class=\"row_heading level0 row3\" >20-24</th>\n",
       "                        <td id=\"T_85c6ef32_1acb_11eb_a273_84c5a68bd48arow3_col0\" class=\"data row3 col0\" >258</td>\n",
       "                        <td id=\"T_85c6ef32_1acb_11eb_a273_84c5a68bd48arow3_col1\" class=\"data row3 col1\" >44.79%</td>\n",
       "            </tr>\n",
       "            <tr>\n",
       "                        <th id=\"T_85c6ef32_1acb_11eb_a273_84c5a68bd48alevel0_row4\" class=\"row_heading level0 row4\" >25-29</th>\n",
       "                        <td id=\"T_85c6ef32_1acb_11eb_a273_84c5a68bd48arow4_col0\" class=\"data row4 col0\" >77</td>\n",
       "                        <td id=\"T_85c6ef32_1acb_11eb_a273_84c5a68bd48arow4_col1\" class=\"data row4 col1\" >13.37%</td>\n",
       "            </tr>\n",
       "            <tr>\n",
       "                        <th id=\"T_85c6ef32_1acb_11eb_a273_84c5a68bd48alevel0_row5\" class=\"row_heading level0 row5\" >30-34</th>\n",
       "                        <td id=\"T_85c6ef32_1acb_11eb_a273_84c5a68bd48arow5_col0\" class=\"data row5 col0\" >52</td>\n",
       "                        <td id=\"T_85c6ef32_1acb_11eb_a273_84c5a68bd48arow5_col1\" class=\"data row5 col1\" >9.03%</td>\n",
       "            </tr>\n",
       "            <tr>\n",
       "                        <th id=\"T_85c6ef32_1acb_11eb_a273_84c5a68bd48alevel0_row6\" class=\"row_heading level0 row6\" >35-39</th>\n",
       "                        <td id=\"T_85c6ef32_1acb_11eb_a273_84c5a68bd48arow6_col0\" class=\"data row6 col0\" >31</td>\n",
       "                        <td id=\"T_85c6ef32_1acb_11eb_a273_84c5a68bd48arow6_col1\" class=\"data row6 col1\" >5.38%</td>\n",
       "            </tr>\n",
       "            <tr>\n",
       "                        <th id=\"T_85c6ef32_1acb_11eb_a273_84c5a68bd48alevel0_row7\" class=\"row_heading level0 row7\" >40+</th>\n",
       "                        <td id=\"T_85c6ef32_1acb_11eb_a273_84c5a68bd48arow7_col0\" class=\"data row7 col0\" >12</td>\n",
       "                        <td id=\"T_85c6ef32_1acb_11eb_a273_84c5a68bd48arow7_col1\" class=\"data row7 col1\" >2.08%</td>\n",
       "            </tr>\n",
       "    </tbody></table>"
      ],
      "text/plain": [
       "<pandas.io.formats.style.Styler at 0x23b18cb3e20>"
      ]
     },
     "execution_count": 17,
     "metadata": {},
     "output_type": "execute_result"
    }
   ],
   "source": [
    "age_bins = [0, 9.90, 14.90, 19.90, 24.90, 29.90, 34.90, 39.90, 99999]\n",
    "group_names = [\"<10\", \"10-14\", \"15-19\", \"20-24\", \"25-29\", \"30-34\", \"35-39\", \"40+\"]\n",
    "purchase_data[\"Age Group\"] = pd.cut(purchase_data[\"Age\"],age_bins, labels=group_names)\n",
    "purchase_data\n",
    "age_group = purchase_data.groupby(\"Age Group\")\n",
    "total_count_age = age_group[\"SN\"].nunique()\n",
    "percent_age = (total_count_age/total_players)\n",
    "\n",
    "age_demo = pd.DataFrame({\"Total Count\": total_count_age, \"Percentage of Players\": percent_age})\n",
    "age_demo.index.name = None\n",
    "age_demo = age_demo.style.format({\"Percentage of Players\":\"{:,.2%}\"})\n",
    "\n",
    "age_demo"
   ]
  },
  {
   "cell_type": "markdown",
   "metadata": {},
   "source": [
    "# Purchasing Analysis by Age"
   ]
  },
  {
   "cell_type": "code",
   "execution_count": 18,
   "metadata": {},
   "outputs": [
    {
     "data": {
      "text/html": [
       "<style  type=\"text/css\" >\n",
       "</style><table id=\"T_96d93dbd_1acb_11eb_abb4_84c5a68bd48a\" ><thead>    <tr>        <th class=\"blank level0\" ></th>        <th class=\"col_heading level0 col0\" >Purchase Count</th>        <th class=\"col_heading level0 col1\" >Average Purchase Price</th>        <th class=\"col_heading level0 col2\" >Total Purchase Value</th>        <th class=\"col_heading level0 col3\" >Average Purchase Total per Person</th>    </tr></thead><tbody>\n",
       "                <tr>\n",
       "                        <th id=\"T_96d93dbd_1acb_11eb_abb4_84c5a68bd48alevel0_row0\" class=\"row_heading level0 row0\" ><10</th>\n",
       "                        <td id=\"T_96d93dbd_1acb_11eb_abb4_84c5a68bd48arow0_col0\" class=\"data row0 col0\" >23</td>\n",
       "                        <td id=\"T_96d93dbd_1acb_11eb_abb4_84c5a68bd48arow0_col1\" class=\"data row0 col1\" >$3.35</td>\n",
       "                        <td id=\"T_96d93dbd_1acb_11eb_abb4_84c5a68bd48arow0_col2\" class=\"data row0 col2\" >$77.13</td>\n",
       "                        <td id=\"T_96d93dbd_1acb_11eb_abb4_84c5a68bd48arow0_col3\" class=\"data row0 col3\" >$4.54</td>\n",
       "            </tr>\n",
       "            <tr>\n",
       "                        <th id=\"T_96d93dbd_1acb_11eb_abb4_84c5a68bd48alevel0_row1\" class=\"row_heading level0 row1\" >10-14</th>\n",
       "                        <td id=\"T_96d93dbd_1acb_11eb_abb4_84c5a68bd48arow1_col0\" class=\"data row1 col0\" >28</td>\n",
       "                        <td id=\"T_96d93dbd_1acb_11eb_abb4_84c5a68bd48arow1_col1\" class=\"data row1 col1\" >$2.96</td>\n",
       "                        <td id=\"T_96d93dbd_1acb_11eb_abb4_84c5a68bd48arow1_col2\" class=\"data row1 col2\" >$82.78</td>\n",
       "                        <td id=\"T_96d93dbd_1acb_11eb_abb4_84c5a68bd48arow1_col3\" class=\"data row1 col3\" >$3.76</td>\n",
       "            </tr>\n",
       "            <tr>\n",
       "                        <th id=\"T_96d93dbd_1acb_11eb_abb4_84c5a68bd48alevel0_row2\" class=\"row_heading level0 row2\" >15-19</th>\n",
       "                        <td id=\"T_96d93dbd_1acb_11eb_abb4_84c5a68bd48arow2_col0\" class=\"data row2 col0\" >136</td>\n",
       "                        <td id=\"T_96d93dbd_1acb_11eb_abb4_84c5a68bd48arow2_col1\" class=\"data row2 col1\" >$3.04</td>\n",
       "                        <td id=\"T_96d93dbd_1acb_11eb_abb4_84c5a68bd48arow2_col2\" class=\"data row2 col2\" >$412.89</td>\n",
       "                        <td id=\"T_96d93dbd_1acb_11eb_abb4_84c5a68bd48arow2_col3\" class=\"data row2 col3\" >$3.86</td>\n",
       "            </tr>\n",
       "            <tr>\n",
       "                        <th id=\"T_96d93dbd_1acb_11eb_abb4_84c5a68bd48alevel0_row3\" class=\"row_heading level0 row3\" >20-24</th>\n",
       "                        <td id=\"T_96d93dbd_1acb_11eb_abb4_84c5a68bd48arow3_col0\" class=\"data row3 col0\" >365</td>\n",
       "                        <td id=\"T_96d93dbd_1acb_11eb_abb4_84c5a68bd48arow3_col1\" class=\"data row3 col1\" >$3.05</td>\n",
       "                        <td id=\"T_96d93dbd_1acb_11eb_abb4_84c5a68bd48arow3_col2\" class=\"data row3 col2\" >$1,114.06</td>\n",
       "                        <td id=\"T_96d93dbd_1acb_11eb_abb4_84c5a68bd48arow3_col3\" class=\"data row3 col3\" >$4.32</td>\n",
       "            </tr>\n",
       "            <tr>\n",
       "                        <th id=\"T_96d93dbd_1acb_11eb_abb4_84c5a68bd48alevel0_row4\" class=\"row_heading level0 row4\" >25-29</th>\n",
       "                        <td id=\"T_96d93dbd_1acb_11eb_abb4_84c5a68bd48arow4_col0\" class=\"data row4 col0\" >101</td>\n",
       "                        <td id=\"T_96d93dbd_1acb_11eb_abb4_84c5a68bd48arow4_col1\" class=\"data row4 col1\" >$2.90</td>\n",
       "                        <td id=\"T_96d93dbd_1acb_11eb_abb4_84c5a68bd48arow4_col2\" class=\"data row4 col2\" >$293.00</td>\n",
       "                        <td id=\"T_96d93dbd_1acb_11eb_abb4_84c5a68bd48arow4_col3\" class=\"data row4 col3\" >$3.81</td>\n",
       "            </tr>\n",
       "            <tr>\n",
       "                        <th id=\"T_96d93dbd_1acb_11eb_abb4_84c5a68bd48alevel0_row5\" class=\"row_heading level0 row5\" >30-34</th>\n",
       "                        <td id=\"T_96d93dbd_1acb_11eb_abb4_84c5a68bd48arow5_col0\" class=\"data row5 col0\" >73</td>\n",
       "                        <td id=\"T_96d93dbd_1acb_11eb_abb4_84c5a68bd48arow5_col1\" class=\"data row5 col1\" >$2.93</td>\n",
       "                        <td id=\"T_96d93dbd_1acb_11eb_abb4_84c5a68bd48arow5_col2\" class=\"data row5 col2\" >$214.00</td>\n",
       "                        <td id=\"T_96d93dbd_1acb_11eb_abb4_84c5a68bd48arow5_col3\" class=\"data row5 col3\" >$4.12</td>\n",
       "            </tr>\n",
       "            <tr>\n",
       "                        <th id=\"T_96d93dbd_1acb_11eb_abb4_84c5a68bd48alevel0_row6\" class=\"row_heading level0 row6\" >35-39</th>\n",
       "                        <td id=\"T_96d93dbd_1acb_11eb_abb4_84c5a68bd48arow6_col0\" class=\"data row6 col0\" >41</td>\n",
       "                        <td id=\"T_96d93dbd_1acb_11eb_abb4_84c5a68bd48arow6_col1\" class=\"data row6 col1\" >$3.60</td>\n",
       "                        <td id=\"T_96d93dbd_1acb_11eb_abb4_84c5a68bd48arow6_col2\" class=\"data row6 col2\" >$147.67</td>\n",
       "                        <td id=\"T_96d93dbd_1acb_11eb_abb4_84c5a68bd48arow6_col3\" class=\"data row6 col3\" >$4.76</td>\n",
       "            </tr>\n",
       "            <tr>\n",
       "                        <th id=\"T_96d93dbd_1acb_11eb_abb4_84c5a68bd48alevel0_row7\" class=\"row_heading level0 row7\" >40+</th>\n",
       "                        <td id=\"T_96d93dbd_1acb_11eb_abb4_84c5a68bd48arow7_col0\" class=\"data row7 col0\" >13</td>\n",
       "                        <td id=\"T_96d93dbd_1acb_11eb_abb4_84c5a68bd48arow7_col1\" class=\"data row7 col1\" >$2.94</td>\n",
       "                        <td id=\"T_96d93dbd_1acb_11eb_abb4_84c5a68bd48arow7_col2\" class=\"data row7 col2\" >$38.24</td>\n",
       "                        <td id=\"T_96d93dbd_1acb_11eb_abb4_84c5a68bd48arow7_col3\" class=\"data row7 col3\" >$3.19</td>\n",
       "            </tr>\n",
       "    </tbody></table>"
      ],
      "text/plain": [
       "<pandas.io.formats.style.Styler at 0x23b19fa0190>"
      ]
     },
     "execution_count": 18,
     "metadata": {},
     "output_type": "execute_result"
    }
   ],
   "source": [
    "purchase_count_age = age_group[\"Purchase ID\"].count()\n",
    "avg_purchase_price = age_group[\"Price\"].mean()\n",
    "total_purchase_value = age_group[\"Price\"].sum()\n",
    "avg_purchase_age = total_purchase_value/total_count_age\n",
    "\n",
    "age_demo = pd.DataFrame({\"Purchase Count\": purchase_count_age,\n",
    "                                 \"Average Purchase Price\": avg_purchase_price,\n",
    "                                 \"Total Purchase Value\":total_purchase_value,\n",
    "                                 \"Average Purchase Total per Person\": avg_purchase_age})\n",
    "\n",
    "age_demo.index.name = None\n",
    "\n",
    "age_demo = age_demo.style.format({\"Average Purchase Price\":\"${:,.2f}\",\n",
    "                               \"Total Purchase Value\":\"${:,.2f}\",\n",
    "                               \"Average Purchase Total per Person\":\"${:,.2f}\"})\n",
    "age_demo"
   ]
  },
  {
   "cell_type": "markdown",
   "metadata": {},
   "source": [
    "# Top Spenders"
   ]
  },
  {
   "cell_type": "code",
   "execution_count": 20,
   "metadata": {},
   "outputs": [
    {
     "data": {
      "text/html": [
       "<style  type=\"text/css\" >\n",
       "</style><table id=\"T_b9a26f50_1acb_11eb_972e_84c5a68bd48a\" ><thead>    <tr>        <th class=\"blank level0\" ></th>        <th class=\"col_heading level0 col0\" >Purchase Count</th>        <th class=\"col_heading level0 col1\" >Average Purchase Price</th>        <th class=\"col_heading level0 col2\" >Total Purchase Value</th>    </tr>    <tr>        <th class=\"index_name level0\" >SN</th>        <th class=\"blank\" ></th>        <th class=\"blank\" ></th>        <th class=\"blank\" ></th>    </tr></thead><tbody>\n",
       "                <tr>\n",
       "                        <th id=\"T_b9a26f50_1acb_11eb_972e_84c5a68bd48alevel0_row0\" class=\"row_heading level0 row0\" >Lisosia93</th>\n",
       "                        <td id=\"T_b9a26f50_1acb_11eb_972e_84c5a68bd48arow0_col0\" class=\"data row0 col0\" >5</td>\n",
       "                        <td id=\"T_b9a26f50_1acb_11eb_972e_84c5a68bd48arow0_col1\" class=\"data row0 col1\" >$3.79</td>\n",
       "                        <td id=\"T_b9a26f50_1acb_11eb_972e_84c5a68bd48arow0_col2\" class=\"data row0 col2\" >$18.96</td>\n",
       "            </tr>\n",
       "            <tr>\n",
       "                        <th id=\"T_b9a26f50_1acb_11eb_972e_84c5a68bd48alevel0_row1\" class=\"row_heading level0 row1\" >Idastidru52</th>\n",
       "                        <td id=\"T_b9a26f50_1acb_11eb_972e_84c5a68bd48arow1_col0\" class=\"data row1 col0\" >4</td>\n",
       "                        <td id=\"T_b9a26f50_1acb_11eb_972e_84c5a68bd48arow1_col1\" class=\"data row1 col1\" >$3.86</td>\n",
       "                        <td id=\"T_b9a26f50_1acb_11eb_972e_84c5a68bd48arow1_col2\" class=\"data row1 col2\" >$15.45</td>\n",
       "            </tr>\n",
       "            <tr>\n",
       "                        <th id=\"T_b9a26f50_1acb_11eb_972e_84c5a68bd48alevel0_row2\" class=\"row_heading level0 row2\" >Chamjask73</th>\n",
       "                        <td id=\"T_b9a26f50_1acb_11eb_972e_84c5a68bd48arow2_col0\" class=\"data row2 col0\" >3</td>\n",
       "                        <td id=\"T_b9a26f50_1acb_11eb_972e_84c5a68bd48arow2_col1\" class=\"data row2 col1\" >$4.61</td>\n",
       "                        <td id=\"T_b9a26f50_1acb_11eb_972e_84c5a68bd48arow2_col2\" class=\"data row2 col2\" >$13.83</td>\n",
       "            </tr>\n",
       "            <tr>\n",
       "                        <th id=\"T_b9a26f50_1acb_11eb_972e_84c5a68bd48alevel0_row3\" class=\"row_heading level0 row3\" >Iral74</th>\n",
       "                        <td id=\"T_b9a26f50_1acb_11eb_972e_84c5a68bd48arow3_col0\" class=\"data row3 col0\" >4</td>\n",
       "                        <td id=\"T_b9a26f50_1acb_11eb_972e_84c5a68bd48arow3_col1\" class=\"data row3 col1\" >$3.40</td>\n",
       "                        <td id=\"T_b9a26f50_1acb_11eb_972e_84c5a68bd48arow3_col2\" class=\"data row3 col2\" >$13.62</td>\n",
       "            </tr>\n",
       "            <tr>\n",
       "                        <th id=\"T_b9a26f50_1acb_11eb_972e_84c5a68bd48alevel0_row4\" class=\"row_heading level0 row4\" >Iskadarya95</th>\n",
       "                        <td id=\"T_b9a26f50_1acb_11eb_972e_84c5a68bd48arow4_col0\" class=\"data row4 col0\" >3</td>\n",
       "                        <td id=\"T_b9a26f50_1acb_11eb_972e_84c5a68bd48arow4_col1\" class=\"data row4 col1\" >$4.37</td>\n",
       "                        <td id=\"T_b9a26f50_1acb_11eb_972e_84c5a68bd48arow4_col2\" class=\"data row4 col2\" >$13.10</td>\n",
       "            </tr>\n",
       "    </tbody></table>"
      ],
      "text/plain": [
       "<pandas.io.formats.style.Styler at 0x23b19fb8430>"
      ]
     },
     "execution_count": 20,
     "metadata": {},
     "output_type": "execute_result"
    }
   ],
   "source": [
    "spender_stats = purchase_data.groupby(\"SN\")\n",
    "purchase_count_spender = spender_stats[\"Purchase ID\"].count()\n",
    "avg_purchase_spender = spender_stats[\"Price\"].mean()\n",
    "purchase_total_spender = spender_stats[\"Price\"].sum()\n",
    "\n",
    "top_spenders = pd.DataFrame({\"Purchase Count\": purchase_count_spender,\n",
    "                             \"Average Purchase Price\": avg_purchase_spender,\n",
    "                             \"Total Purchase Value\":purchase_total_spender})\n",
    "\n",
    "formatted_spenders = top_spenders.sort_values([\"Total Purchase Value\"], ascending=False).head()\n",
    "\n",
    "formatted_spenders = formatted_spenders.style.format({\"Average Purchase Total\":\"${:,.2f}\",\n",
    "                                 \"Average Purchase Price\":\"${:,.2f}\", \n",
    "                                 \"Total Purchase Value\":\"${:,.2f}\"})\n",
    "formatted_spenders"
   ]
  },
  {
   "cell_type": "markdown",
   "metadata": {},
   "source": [
    "# Most Popular Items"
   ]
  },
  {
   "cell_type": "code",
   "execution_count": 21,
   "metadata": {},
   "outputs": [
    {
     "data": {
      "text/html": [
       "<style  type=\"text/css\" >\n",
       "</style><table id=\"T_e3f5a792_1acb_11eb_b20f_84c5a68bd48a\" ><thead>    <tr>        <th class=\"blank\" ></th>        <th class=\"blank level0\" ></th>        <th class=\"col_heading level0 col0\" >Purchase Count</th>        <th class=\"col_heading level0 col1\" >Item Price</th>        <th class=\"col_heading level0 col2\" >Total Purchase Value</th>    </tr>    <tr>        <th class=\"index_name level0\" >Item ID</th>        <th class=\"index_name level1\" >Item Name</th>        <th class=\"blank\" ></th>        <th class=\"blank\" ></th>        <th class=\"blank\" ></th>    </tr></thead><tbody>\n",
       "                <tr>\n",
       "                        <th id=\"T_e3f5a792_1acb_11eb_b20f_84c5a68bd48alevel0_row0\" class=\"row_heading level0 row0\" >92</th>\n",
       "                        <th id=\"T_e3f5a792_1acb_11eb_b20f_84c5a68bd48alevel1_row0\" class=\"row_heading level1 row0\" >Final Critic</th>\n",
       "                        <td id=\"T_e3f5a792_1acb_11eb_b20f_84c5a68bd48arow0_col0\" class=\"data row0 col0\" >13</td>\n",
       "                        <td id=\"T_e3f5a792_1acb_11eb_b20f_84c5a68bd48arow0_col1\" class=\"data row0 col1\" >$4.61</td>\n",
       "                        <td id=\"T_e3f5a792_1acb_11eb_b20f_84c5a68bd48arow0_col2\" class=\"data row0 col2\" >$59.99</td>\n",
       "            </tr>\n",
       "            <tr>\n",
       "                        <th id=\"T_e3f5a792_1acb_11eb_b20f_84c5a68bd48alevel0_row1\" class=\"row_heading level0 row1\" >178</th>\n",
       "                        <th id=\"T_e3f5a792_1acb_11eb_b20f_84c5a68bd48alevel1_row1\" class=\"row_heading level1 row1\" >Oathbreaker, Last Hope of the Breaking Storm</th>\n",
       "                        <td id=\"T_e3f5a792_1acb_11eb_b20f_84c5a68bd48arow1_col0\" class=\"data row1 col0\" >12</td>\n",
       "                        <td id=\"T_e3f5a792_1acb_11eb_b20f_84c5a68bd48arow1_col1\" class=\"data row1 col1\" >$4.23</td>\n",
       "                        <td id=\"T_e3f5a792_1acb_11eb_b20f_84c5a68bd48arow1_col2\" class=\"data row1 col2\" >$50.76</td>\n",
       "            </tr>\n",
       "            <tr>\n",
       "                        <th id=\"T_e3f5a792_1acb_11eb_b20f_84c5a68bd48alevel0_row2\" class=\"row_heading level0 row2\" >145</th>\n",
       "                        <th id=\"T_e3f5a792_1acb_11eb_b20f_84c5a68bd48alevel1_row2\" class=\"row_heading level1 row2\" >Fiery Glass Crusader</th>\n",
       "                        <td id=\"T_e3f5a792_1acb_11eb_b20f_84c5a68bd48arow2_col0\" class=\"data row2 col0\" >9</td>\n",
       "                        <td id=\"T_e3f5a792_1acb_11eb_b20f_84c5a68bd48arow2_col1\" class=\"data row2 col1\" >$4.58</td>\n",
       "                        <td id=\"T_e3f5a792_1acb_11eb_b20f_84c5a68bd48arow2_col2\" class=\"data row2 col2\" >$41.22</td>\n",
       "            </tr>\n",
       "            <tr>\n",
       "                        <th id=\"T_e3f5a792_1acb_11eb_b20f_84c5a68bd48alevel0_row3\" class=\"row_heading level0 row3\" >132</th>\n",
       "                        <th id=\"T_e3f5a792_1acb_11eb_b20f_84c5a68bd48alevel1_row3\" class=\"row_heading level1 row3\" >Persuasion</th>\n",
       "                        <td id=\"T_e3f5a792_1acb_11eb_b20f_84c5a68bd48arow3_col0\" class=\"data row3 col0\" >9</td>\n",
       "                        <td id=\"T_e3f5a792_1acb_11eb_b20f_84c5a68bd48arow3_col1\" class=\"data row3 col1\" >$3.22</td>\n",
       "                        <td id=\"T_e3f5a792_1acb_11eb_b20f_84c5a68bd48arow3_col2\" class=\"data row3 col2\" >$28.99</td>\n",
       "            </tr>\n",
       "            <tr>\n",
       "                        <th id=\"T_e3f5a792_1acb_11eb_b20f_84c5a68bd48alevel0_row4\" class=\"row_heading level0 row4\" >108</th>\n",
       "                        <th id=\"T_e3f5a792_1acb_11eb_b20f_84c5a68bd48alevel1_row4\" class=\"row_heading level1 row4\" >Extraction, Quickblade Of Trembling Hands</th>\n",
       "                        <td id=\"T_e3f5a792_1acb_11eb_b20f_84c5a68bd48arow4_col0\" class=\"data row4 col0\" >9</td>\n",
       "                        <td id=\"T_e3f5a792_1acb_11eb_b20f_84c5a68bd48arow4_col1\" class=\"data row4 col1\" >$3.53</td>\n",
       "                        <td id=\"T_e3f5a792_1acb_11eb_b20f_84c5a68bd48arow4_col2\" class=\"data row4 col2\" >$31.77</td>\n",
       "            </tr>\n",
       "    </tbody></table>"
      ],
      "text/plain": [
       "<pandas.io.formats.style.Styler at 0x23b19fb8670>"
      ]
     },
     "execution_count": 21,
     "metadata": {},
     "output_type": "execute_result"
    }
   ],
   "source": [
    "items = purchase_data[[\"Item ID\", \"Item Name\", \"Price\"]]\n",
    "item_stats = items.groupby([\"Item ID\",\"Item Name\"])\n",
    "purchase_count_item = item_stats[\"Price\"].count()\n",
    "purchase_value = (item_stats[\"Price\"].sum()) \n",
    "item_price = purchase_value/purchase_count_item\n",
    "\n",
    "most_popular_items = pd.DataFrame({\"Purchase Count\": purchase_count_item, \n",
    "                                   \"Item Price\": item_price,\n",
    "                                   \"Total Purchase Value\":purchase_value})\n",
    "\n",
    "popular_formatted = most_popular_items.sort_values([\"Purchase Count\"], ascending=False).head()\n",
    "\n",
    "popular_formatted = popular_formatted.style.format({\"Item Price\":\"${:,.2f}\",\n",
    "                                \"Total Purchase Value\":\"${:,.2f}\"})\n",
    "\n",
    "popular_formatted"
   ]
  },
  {
   "cell_type": "markdown",
   "metadata": {},
   "source": [
    "# Most Profitable Items"
   ]
  },
  {
   "cell_type": "code",
   "execution_count": 24,
   "metadata": {},
   "outputs": [
    {
     "data": {
      "text/html": [
       "<style  type=\"text/css\" >\n",
       "</style><table id=\"T_324219d1_1ad0_11eb_bee9_84c5a68bd48a\" ><thead>    <tr>        <th class=\"blank\" ></th>        <th class=\"blank level0\" ></th>        <th class=\"col_heading level0 col0\" >Purchase Count</th>        <th class=\"col_heading level0 col1\" >Item Price</th>        <th class=\"col_heading level0 col2\" >Total Purchase Value</th>    </tr>    <tr>        <th class=\"index_name level0\" >Item ID</th>        <th class=\"index_name level1\" >Item Name</th>        <th class=\"blank\" ></th>        <th class=\"blank\" ></th>        <th class=\"blank\" ></th>    </tr></thead><tbody>\n",
       "                <tr>\n",
       "                        <th id=\"T_324219d1_1ad0_11eb_bee9_84c5a68bd48alevel0_row0\" class=\"row_heading level0 row0\" >92</th>\n",
       "                        <th id=\"T_324219d1_1ad0_11eb_bee9_84c5a68bd48alevel1_row0\" class=\"row_heading level1 row0\" >Final Critic</th>\n",
       "                        <td id=\"T_324219d1_1ad0_11eb_bee9_84c5a68bd48arow0_col0\" class=\"data row0 col0\" >13</td>\n",
       "                        <td id=\"T_324219d1_1ad0_11eb_bee9_84c5a68bd48arow0_col1\" class=\"data row0 col1\" >$4.61</td>\n",
       "                        <td id=\"T_324219d1_1ad0_11eb_bee9_84c5a68bd48arow0_col2\" class=\"data row0 col2\" >$59.99</td>\n",
       "            </tr>\n",
       "            <tr>\n",
       "                        <th id=\"T_324219d1_1ad0_11eb_bee9_84c5a68bd48alevel0_row1\" class=\"row_heading level0 row1\" >178</th>\n",
       "                        <th id=\"T_324219d1_1ad0_11eb_bee9_84c5a68bd48alevel1_row1\" class=\"row_heading level1 row1\" >Oathbreaker, Last Hope of the Breaking Storm</th>\n",
       "                        <td id=\"T_324219d1_1ad0_11eb_bee9_84c5a68bd48arow1_col0\" class=\"data row1 col0\" >12</td>\n",
       "                        <td id=\"T_324219d1_1ad0_11eb_bee9_84c5a68bd48arow1_col1\" class=\"data row1 col1\" >$4.23</td>\n",
       "                        <td id=\"T_324219d1_1ad0_11eb_bee9_84c5a68bd48arow1_col2\" class=\"data row1 col2\" >$50.76</td>\n",
       "            </tr>\n",
       "            <tr>\n",
       "                        <th id=\"T_324219d1_1ad0_11eb_bee9_84c5a68bd48alevel0_row2\" class=\"row_heading level0 row2\" >82</th>\n",
       "                        <th id=\"T_324219d1_1ad0_11eb_bee9_84c5a68bd48alevel1_row2\" class=\"row_heading level1 row2\" >Nirvana</th>\n",
       "                        <td id=\"T_324219d1_1ad0_11eb_bee9_84c5a68bd48arow2_col0\" class=\"data row2 col0\" >9</td>\n",
       "                        <td id=\"T_324219d1_1ad0_11eb_bee9_84c5a68bd48arow2_col1\" class=\"data row2 col1\" >$4.90</td>\n",
       "                        <td id=\"T_324219d1_1ad0_11eb_bee9_84c5a68bd48arow2_col2\" class=\"data row2 col2\" >$44.10</td>\n",
       "            </tr>\n",
       "            <tr>\n",
       "                        <th id=\"T_324219d1_1ad0_11eb_bee9_84c5a68bd48alevel0_row3\" class=\"row_heading level0 row3\" >145</th>\n",
       "                        <th id=\"T_324219d1_1ad0_11eb_bee9_84c5a68bd48alevel1_row3\" class=\"row_heading level1 row3\" >Fiery Glass Crusader</th>\n",
       "                        <td id=\"T_324219d1_1ad0_11eb_bee9_84c5a68bd48arow3_col0\" class=\"data row3 col0\" >9</td>\n",
       "                        <td id=\"T_324219d1_1ad0_11eb_bee9_84c5a68bd48arow3_col1\" class=\"data row3 col1\" >$4.58</td>\n",
       "                        <td id=\"T_324219d1_1ad0_11eb_bee9_84c5a68bd48arow3_col2\" class=\"data row3 col2\" >$41.22</td>\n",
       "            </tr>\n",
       "            <tr>\n",
       "                        <th id=\"T_324219d1_1ad0_11eb_bee9_84c5a68bd48alevel0_row4\" class=\"row_heading level0 row4\" >103</th>\n",
       "                        <th id=\"T_324219d1_1ad0_11eb_bee9_84c5a68bd48alevel1_row4\" class=\"row_heading level1 row4\" >Singed Scalpel</th>\n",
       "                        <td id=\"T_324219d1_1ad0_11eb_bee9_84c5a68bd48arow4_col0\" class=\"data row4 col0\" >8</td>\n",
       "                        <td id=\"T_324219d1_1ad0_11eb_bee9_84c5a68bd48arow4_col1\" class=\"data row4 col1\" >$4.35</td>\n",
       "                        <td id=\"T_324219d1_1ad0_11eb_bee9_84c5a68bd48arow4_col2\" class=\"data row4 col2\" >$34.80</td>\n",
       "            </tr>\n",
       "    </tbody></table>"
      ],
      "text/plain": [
       "<pandas.io.formats.style.Styler at 0x23b19f10910>"
      ]
     },
     "execution_count": 24,
     "metadata": {},
     "output_type": "execute_result"
    }
   ],
   "source": [
    "popular_formatted = most_popular_items.sort_values([\"Total Purchase Value\"],\n",
    "                                                   ascending=False).head()\n",
    "popular_formatted = popular_formatted.style.format({\"Item Price\":\"${:,.2f}\",\n",
    "                                \"Total Purchase Value\":\"${:,.2f}\"})\n",
    "popular_formatted"
   ]
  }
 ],
 "metadata": {
  "kernelspec": {
   "display_name": "Python 3",
   "language": "python",
   "name": "python3"
  },
  "language_info": {
   "codemirror_mode": {
    "name": "ipython",
    "version": 3
   },
   "file_extension": ".py",
   "mimetype": "text/x-python",
   "name": "python",
   "nbconvert_exporter": "python",
   "pygments_lexer": "ipython3",
   "version": "3.8.3"
  }
 },
 "nbformat": 4,
 "nbformat_minor": 4
}

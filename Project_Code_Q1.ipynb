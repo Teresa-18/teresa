{
 "cells": [
  {
   "cell_type": "code",
   "execution_count": null,
   "metadata": {},
   "outputs": [],
   "source": [
    "!jupyter nbextension enable --py --sys-prefix widgetsnbextension\n",
    "# !pip install gmaps\n",
    "!jupyter nbextension enable --py --sys-prefix gmaps\n",
    "!jupyter nbextension enable --py gmaps\n",
    "\n",
    "# Dependencies and Setup\n",
    "import matplotlib.pyplot as plt\n",
    "import pandas as pd\n",
    "import numpy as np\n",
    "import requests\n",
    "import gmaps\n",
    "import os\n",
    "import json\n",
    "import time\n",
    "import sys\n",
    "%matplotlib inline\n",
    "import scipy.stats as st\n",
    "import pprint\n",
    "# Import API key\n",
    "with open('/Users/tmlun/Downloads/api_keys.py', 'r') as g_key:\n",
    "    mykey=g_key.read()\n",
    "    mykey=mykey.split('=')\n",
    "    mykey=mykey[1].strip()   \n",
    "g_key = mykey.strip('\"')\n",
    "#from api_keys import g_key\n",
    "gmaps.configure(api_key=g_key)\n",
    "\n",
    "# Data File path (CSV)\n",
    "#data = \"./output_data/cities.csv\""
   ]
  },
  {
   "cell_type": "code",
   "execution_count": null,
   "metadata": {},
   "outputs": [],
   "source": [
    "# Study data files\n",
    "RMS_path = \"./RMS.csv\"\n",
    "# Read the data\n",
    "Crime_df = pd.read_csv(RMS_path)\n",
    "print(Crime_df)\n"
   ]
  },
  {
   "cell_type": "code",
   "execution_count": null,
   "metadata": {},
   "outputs": [],
   "source": [
    "#Clean the Zipcode Data\n",
    "Crime_df = Crime_df.dropna(subset=['ZIP'])\n",
    "print(Crime_df)"
   ]
  },
  {
   "cell_type": "code",
   "execution_count": null,
   "metadata": {},
   "outputs": [],
   "source": [
    "Crime_df=Crime_df.loc[(Crime_df[\"ZIP\"]!=\"0\") & (Crime_df[\"ZIP\"]!=\"1\") & (Crime_df[\"ZIP\"]!=\"78\") & \n",
    "                                (Crime_df[\"ZIP\"]!=\"11111\") & (Crime_df[\"ZIP\"]!=\"6278\") & (Crime_df[\"ZIP\"]!=\"50701\")\n",
    "                               & (Crime_df[\"ZIP\"]!=\"81507\")]\n",
    "print(Crime_df)"
   ]
  },
  {
   "cell_type": "code",
   "execution_count": null,
   "metadata": {},
   "outputs": [],
   "source": [
    "# of zipcodes\n",
    "Zipcodes_df = Crime_df.loc[:,[\"ZIP\"]]\n",
    "print(Zipcodes_df)\n",
    "print(type(Zipcodes_df))\n",
    "Zipcodes_df[\"ZIP\"].unique()"
   ]
  },
  {
   "cell_type": "code",
   "execution_count": null,
   "metadata": {
    "scrolled": true
   },
   "outputs": [],
   "source": [
    "Num_of_Crimes_grp = Crime_df.groupby(\"ZIP\")\n",
    "Num_of_Crimes = Num_of_Crimes_grp[\"INCIDENT_NUM\"].count()\n",
    "Num_of_Crimes_2 = Num_of_Crimes.astype(float)\n",
    "Num_of_Crimes_3 = pd.DataFrame(Num_of_Crimes_2)\n",
    "print(type(Num_of_Crimes_3))\n",
    "print(Num_of_Crimes_2)\n",
    "print(Num_of_Crimes_3)"
   ]
  },
  {
   "cell_type": "code",
   "execution_count": null,
   "metadata": {},
   "outputs": [],
   "source": [
    "Zipcodes_df \n",
    "\n",
    "Zipcodes_df[\"Lat\"] = \"\"\n",
    "Zipcodes_df[\"Lon\"] = \"\"\n",
    "\n",
    "# Target zipcode\n",
    "# Zipcodes_df_2[\"Zip\"] = Zipcodes_df_2[\"ZIP\"].astype(str)\n",
    "\n",
    "print(Zipcodes_df.dtypes)\n",
    "print(Zipcodes_df)"
   ]
  },
  {
   "cell_type": "code",
   "execution_count": null,
   "metadata": {},
   "outputs": [],
   "source": [
    "# params = {\"query\": Zipcode,\"key\": g_key}\n",
    "\n",
    "for index,row in Zipcodes_df.iterrows():\n",
    "\n",
    "    # get zipcode info from df\n",
    "    Zipcode = row['ZIP']\n",
    "    \n",
    "    # add keyword to params dict\n",
    "#     params['query'] = Zipcode\n",
    "#     params['key'] = g_key\n",
    "    # assemble url and make API request\n",
    "    print(f\"Retrieving Results for Index {index}: {Zipcode}.\")\n",
    "    # Build the endpoint URL\n",
    "    target_url = (\"https://maps.googleapis.com/maps/api/place/textsearch/json?query=\"+str(Zipcode)+\"&key=\"+g_key)\n",
    "    response = requests.get(target_url).json()\n",
    "#     pprint.pprint(response)\n",
    "    \n",
    "    # extract results\n",
    "    results = response['results']\n",
    "    \n",
    "    \n",
    "    try:\n",
    "        print(f\"The lat is: {results[0]['geometry']['location']['lat']}\")\n",
    "        print(f\"The lng is: {results[0]['geometry']['location']['lng']}\")\n",
    "        \n",
    "        Zipcodes_df.loc[index, 'Lat'] = response['results'][0]['geometry']['location']['lat']\n",
    "        Zipcodes_df.loc[index, 'Lon'] = response['results'][0]['geometry']['location']['lng']\n",
    "        \n",
    "#     except (KeyError, IndexError):\n",
    "#         print(\"Missing field/result... skipping.\")\n",
    "        \n",
    "#     print(\"------------\")\n",
    "\n",
    "Zipcodes_df"
   ]
  },
  {
   "cell_type": "code",
   "execution_count": null,
   "metadata": {},
   "outputs": [],
   "source": [
    "Zipcodes_df_2[\"Lat\"] = pd.to_numeric(Zipcodes_df_2[\"Lat\"])\n",
    "Zipcodes_df_2[\"Lon\"] = pd.to_numeric(Zipcodes_df_2[\"Lon\"])\n",
    "\n",
    "\n",
    "locations = Zipcodes_df_2[[\"Lat\", \"Lon\"]]\n",
    "Crime = Num_of_Crimes_3\n",
    "print(len(locations))\n",
    "print(len(Crime))"
   ]
  },
  {
   "cell_type": "code",
   "execution_count": null,
   "metadata": {},
   "outputs": [],
   "source": [
    "fig= gmaps.figure()\n",
    "heat_layer = gmaps.heatmap_layer(locations, weights=Crime, dissipating=False,\n",
    "                                point_radius=5)\n",
    "\n",
    "fig.add_layer(heat_layer)\n",
    "\n",
    "fig"
   ]
  },
  {
   "cell_type": "code",
   "execution_count": null,
   "metadata": {},
   "outputs": [],
   "source": []
  }
 ],
 "metadata": {
  "kernelspec": {
   "display_name": "Python 3",
   "language": "python",
   "name": "python3"
  },
  "language_info": {
   "codemirror_mode": {
    "name": "ipython",
    "version": 3
   },
   "file_extension": ".py",
   "mimetype": "text/x-python",
   "name": "python",
   "nbconvert_exporter": "python",
   "pygments_lexer": "ipython3",
   "version": "3.6.10"
  }
 },
 "nbformat": 4,
 "nbformat_minor": 4
}

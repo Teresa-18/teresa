{
 "cells": [
  {
   "cell_type": "code",
   "execution_count": null,
   "metadata": {},
   "outputs": [],
   "source": [
    "!jupyter nbextension enable --py --sys-prefix widgetsnbextension\n",
    "!pip install gmaps\n",
    "!jupyter nbextension enable --py --sys-prefix gmaps\n",
    "!jupyter nbextension enable --py gmaps\n",
    "\n",
    "# Dependencies and Setup\n",
    "import matplotlib.pyplot as plt\n",
    "import pandas as pd\n",
    "import numpy as np\n",
    "import requests\n",
    "import gmaps\n",
    "import os\n",
    "import json\n",
    "import time\n",
    "import sys\n",
    "%matplotlib inline\n",
    "\n",
    "# Import API key\n",
    "\n",
    "with open('/Users/tmlun/Downloads/api_keys.py', 'r') as gkey:\n",
    "    mykey=gkey.read()\n",
    "    mykey=mykey.split('=')\n",
    "    mykey=mykey[1].strip()   \n",
    "gkey = mykey.strip('\"') \n",
    "#from api_keys import g_key\n",
    "#from api_keys import weather_api_key\n",
    "gmaps.configure(api_key=g_key)\n",
    "\n",
    "# Data File path (CSV)\n",
    "data = \"./output_data/cities.csv\""
   ]
  },
  {
   "cell_type": "code",
   "execution_count": null,
   "metadata": {},
   "outputs": [],
   "source": []
  }
 ],
 "metadata": {
  "kernelspec": {
   "display_name": "Python 3",
   "language": "python",
   "name": "python3"
  },
  "language_info": {
   "codemirror_mode": {
    "name": "ipython",
    "version": 3
   },
   "file_extension": ".py",
   "mimetype": "text/x-python",
   "name": "python",
   "nbconvert_exporter": "python",
   "pygments_lexer": "ipython3",
   "version": "3.8.3"
  }
 },
 "nbformat": 4,
 "nbformat_minor": 4
}

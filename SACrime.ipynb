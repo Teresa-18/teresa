{
 "cells": [
  {
   "cell_type": "markdown",
   "metadata": {},
   "source": [
    "# Observations and Insights"
   ]
  },
  {
   "cell_type": "code",
   "execution_count": 34,
   "metadata": {},
   "outputs": [
    {
     "name": "stdout",
     "output_type": "stream",
     "text": [
      "  ARREST_DATE      DATE  YEAR    MONTH  WEEK SEX RACE ETHNIC  FBI      SID  \\\n",
      "0    1/1/2016  1/1/2016  2016  JANUARY     1   F    W      N  NaN      NaN   \n",
      "1    1/1/2016  1/1/2016  2016  JANUARY     1   M    W      H  NaN      NaN   \n",
      "2    1/1/2016  1/1/2016  2016  JANUARY     1   M    W      H  NaN   664565   \n",
      "3    1/1/2016  1/1/2016  2016  JANUARY     1   M    W      H  NaN  1049997   \n",
      "4    1/1/2016  1/1/2016  2016  JANUARY     1   F    W      H  NaN   964686   \n",
      "\n",
      "   ... INVOLVEMENT  INCIDENT_NUM OFFENSE_CODE               OFFENSE-DESC  \\\n",
      "0  ...           A  SAPD16000022       420001  TABC-Liquor Law Violation   \n",
      "1  ...           A  SAPD16000026       420001  TABC-Liquor Law Violation   \n",
      "2  ...           A  SAPD16056633           56               Other Crimes   \n",
      "3  ...           A  SAPD16000052       131352            Family Violence   \n",
      "4  ...           A  SAPD16000030       131352            Family Violence   \n",
      "\n",
      "                       RMS_DESCRIPTION GIS_ARCTYPE DISTRICT              CITY  \\\n",
      "0                  PUBLIC INTOXICATION       OTHER      NaN  SAN ANTONIO (BE)   \n",
      "1                  PUBLIC INTOXICATION       OTHER     5230       SAN ANTONIO   \n",
      "2                            WNTD PERS       OTHER     4350       SAN ANTONIO   \n",
      "3  ASSAULT BODILY INJURY-MARRIED/COHAB     VIOLENT     2240       SAN ANTONIO   \n",
      "4  ASSAULT BODILY INJURY-MARRIED/COHAB     VIOLENT     2340       SAN ANTONIO   \n",
      "\n",
      "  STATE    ZIP  \n",
      "0    TX  78205  \n",
      "1    TX  78201  \n",
      "2    TX  78218  \n",
      "3    TX  78201  \n",
      "4    TX  78207  \n",
      "\n",
      "[5 rows x 22 columns]\n"
     ]
    }
   ],
   "source": [
    "# Dependencies and Setup\n",
    "import matplotlib.pyplot as plt\n",
    "import pandas as pd\n",
    "import numpy as np\n",
    "import scipy.stats as st\n",
    "# Study data files\n",
    "RMS_path = \"Downloads/RMS.csv\"\n",
    "# Read the data\n",
    "RMS = pd.read_csv(RMS_path)\n",
    "print(RMS.head())"
   ]
  },
  {
   "cell_type": "code",
   "execution_count": 35,
   "metadata": {},
   "outputs": [
    {
     "name": "stdout",
     "output_type": "stream",
     "text": [
      "       ARREST_DATE        DATE  YEAR     MONTH  WEEK SEX RACE ETHNIC  FBI  \\\n",
      "0         1/1/2016    1/1/2016  2016   JANUARY     1   F    W      N  NaN   \n",
      "1         1/1/2016    1/1/2016  2016   JANUARY     1   M    W      H  NaN   \n",
      "3         1/1/2016    1/1/2016  2016   JANUARY     1   M    W      H  NaN   \n",
      "4         1/1/2016    1/1/2016  2016   JANUARY     1   F    W      H  NaN   \n",
      "5         1/1/2016    1/1/2016  2016   JANUARY     1   M    W      H  NaN   \n",
      "...            ...         ...   ...       ...   ...  ..  ...    ...  ...   \n",
      "219216  12/31/2018  12/31/2018  2018  DECEMBER    53   M    W      H  NaN   \n",
      "219217  12/31/2018  12/31/2018  2018  DECEMBER    53   F    W      H  NaN   \n",
      "219218  12/31/2018  12/31/2018  2018  DECEMBER    53   M    B      N  NaN   \n",
      "219219  12/31/2018  12/31/2018  2018  DECEMBER    53   M    B      N  NaN   \n",
      "219222  12/31/2018  12/31/2018  2018  DECEMBER    53   M    W      H  NaN   \n",
      "\n",
      "            SID  ... INVOLVEMENT  INCIDENT_NUM OFFENSE_CODE  \\\n",
      "0           NaN  ...           A  SAPD16000022       420001   \n",
      "1           NaN  ...           A  SAPD16000026       420001   \n",
      "3       1049997  ...           A  SAPD16000052       131352   \n",
      "4        964686  ...           A  SAPD16000030       131352   \n",
      "5           NaN  ...           A  SAPD16000023       521320   \n",
      "...         ...  ...         ...           ...          ...   \n",
      "219216   920488  ...           A  SAPD18275812       356205   \n",
      "219217      NaN  ...           A  SAPD18275842      230060A   \n",
      "219218   529767  ...           A  SAPD18275835       420001   \n",
      "219219   529767  ...           A  SAPD18275835      299932A   \n",
      "219222      NaN  ...           A  SAPD18275870       549999   \n",
      "\n",
      "                     OFFENSE-DESC                      RMS_DESCRIPTION  \\\n",
      "0       TABC-Liquor Law Violation                  PUBLIC INTOXICATION   \n",
      "1       TABC-Liquor Law Violation                  PUBLIC INTOXICATION   \n",
      "3                 Family Violence  ASSAULT BODILY INJURY-MARRIED/COHAB   \n",
      "4                 Family Violence  ASSAULT BODILY INJURY-MARRIED/COHAB   \n",
      "5                  Deadly Conduct          DISCHARGE FIREARM >100K POP   \n",
      "...                           ...                                  ...   \n",
      "219216                Drug Arrest                POSS MARIHUANA 0-2 OZ   \n",
      "219217                    Larceny                  MC THEFT UNDER $100   \n",
      "219218  TABC-Liquor Law Violation                  PUBLIC INTOXICATION   \n",
      "219219                  Vandalism              CRIM MISH $100 TO <$750   \n",
      "219222          Traffic Violation                              TRAFFIC   \n",
      "\n",
      "       GIS_ARCTYPE DISTRICT              CITY STATE    ZIP  \n",
      "0            OTHER      NaN  SAN ANTONIO (BE)    TX  78205  \n",
      "1            OTHER     5230       SAN ANTONIO    TX  78201  \n",
      "3          VIOLENT     2240       SAN ANTONIO    TX  78201  \n",
      "4          VIOLENT     2340       SAN ANTONIO    TX  78207  \n",
      "5          VIOLENT     2350       SAN ANTONIO    TX  78207  \n",
      "...            ...      ...               ...   ...    ...  \n",
      "219216        DRUG     7320       SAN ANTONIO    TX  78250  \n",
      "219217    PROPERTY     4220       SAN ANTONIO    TX  78223  \n",
      "219218       OTHER     4160       SAN ANTONIO    TX  78220  \n",
      "219219    PROPERTY     4160       SAN ANTONIO    TX  78220  \n",
      "219222     TRAFFIC     7260       SAN ANTONIO   NaN  78257  \n",
      "\n",
      "[137123 rows x 22 columns]\n"
     ]
    }
   ],
   "source": [
    "RMS = RMS.loc[(RMS[\"OFFENSE-DESC\"]!=\"Other Crimes\")]\n",
    "print(RMS)"
   ]
  },
  {
   "cell_type": "markdown",
   "metadata": {},
   "source": [
    "# Offender Age Demographics"
   ]
  },
  {
   "cell_type": "code",
   "execution_count": 36,
   "metadata": {},
   "outputs": [
    {
     "name": "stdout",
     "output_type": "stream",
     "text": [
      "       ARREST_DATE        DATE  YEAR     MONTH  WEEK SEX RACE ETHNIC  FBI  \\\n",
      "0         1/1/2016    1/1/2016  2016   JANUARY     1   F    W      N  NaN   \n",
      "1         1/1/2016    1/1/2016  2016   JANUARY     1   M    W      H  NaN   \n",
      "3         1/1/2016    1/1/2016  2016   JANUARY     1   M    W      H  NaN   \n",
      "4         1/1/2016    1/1/2016  2016   JANUARY     1   F    W      H  NaN   \n",
      "5         1/1/2016    1/1/2016  2016   JANUARY     1   M    W      H  NaN   \n",
      "...            ...         ...   ...       ...   ...  ..  ...    ...  ...   \n",
      "219216  12/31/2018  12/31/2018  2018  DECEMBER    53   M    W      H  NaN   \n",
      "219217  12/31/2018  12/31/2018  2018  DECEMBER    53   F    W      H  NaN   \n",
      "219218  12/31/2018  12/31/2018  2018  DECEMBER    53   M    B      N  NaN   \n",
      "219219  12/31/2018  12/31/2018  2018  DECEMBER    53   M    B      N  NaN   \n",
      "219222  12/31/2018  12/31/2018  2018  DECEMBER    53   M    W      H  NaN   \n",
      "\n",
      "            SID  ... INVOLVEMENT  INCIDENT_NUM OFFENSE_CODE  \\\n",
      "0           NaN  ...           A  SAPD16000022       420001   \n",
      "1           NaN  ...           A  SAPD16000026       420001   \n",
      "3       1049997  ...           A  SAPD16000052       131352   \n",
      "4        964686  ...           A  SAPD16000030       131352   \n",
      "5           NaN  ...           A  SAPD16000023       521320   \n",
      "...         ...  ...         ...           ...          ...   \n",
      "219216   920488  ...           A  SAPD18275812       356205   \n",
      "219217      NaN  ...           A  SAPD18275842      230060A   \n",
      "219218   529767  ...           A  SAPD18275835       420001   \n",
      "219219   529767  ...           A  SAPD18275835      299932A   \n",
      "219222      NaN  ...           A  SAPD18275870       549999   \n",
      "\n",
      "                     OFFENSE-DESC                      RMS_DESCRIPTION  \\\n",
      "0       TABC-Liquor Law Violation                  PUBLIC INTOXICATION   \n",
      "1       TABC-Liquor Law Violation                  PUBLIC INTOXICATION   \n",
      "3                 Family Violence  ASSAULT BODILY INJURY-MARRIED/COHAB   \n",
      "4                 Family Violence  ASSAULT BODILY INJURY-MARRIED/COHAB   \n",
      "5                  Deadly Conduct          DISCHARGE FIREARM >100K POP   \n",
      "...                           ...                                  ...   \n",
      "219216                Drug Arrest                POSS MARIHUANA 0-2 OZ   \n",
      "219217                    Larceny                  MC THEFT UNDER $100   \n",
      "219218  TABC-Liquor Law Violation                  PUBLIC INTOXICATION   \n",
      "219219                  Vandalism              CRIM MISH $100 TO <$750   \n",
      "219222          Traffic Violation                              TRAFFIC   \n",
      "\n",
      "       GIS_ARCTYPE DISTRICT              CITY STATE    ZIP  \n",
      "0            OTHER      NaN  SAN ANTONIO (BE)    TX  78205  \n",
      "1            OTHER     5230       SAN ANTONIO    TX  78201  \n",
      "3          VIOLENT     2240       SAN ANTONIO    TX  78201  \n",
      "4          VIOLENT     2340       SAN ANTONIO    TX  78207  \n",
      "5          VIOLENT     2350       SAN ANTONIO    TX  78207  \n",
      "...            ...      ...               ...   ...    ...  \n",
      "219216        DRUG     7320       SAN ANTONIO    TX  78250  \n",
      "219217    PROPERTY     4220       SAN ANTONIO    TX  78223  \n",
      "219218       OTHER     4160       SAN ANTONIO    TX  78220  \n",
      "219219    PROPERTY     4160       SAN ANTONIO    TX  78220  \n",
      "219222     TRAFFIC     7260       SAN ANTONIO   NaN  78257  \n",
      "\n",
      "[137090 rows x 22 columns]\n"
     ]
    }
   ],
   "source": [
    "clean_offender_df=RMS.loc[RMS['AGE']>0]\n",
    "clean_offender_df = clean_offender_df.dropna(subset=['AGE'])\n",
    "\n",
    "clean_offender_df = clean_offender_df.dropna(subset=['OFFENSE-DESC'])\n",
    "\n",
    "total_crime = clean_offender_df[\"INCIDENT_NUM\"].count()\n",
    "crime_df = pd.DataFrame({\"Total Crime\":[total_crime]})\n",
    "\n",
    "print(clean_offender_df)"
   ]
  },
  {
   "cell_type": "code",
   "execution_count": 37,
   "metadata": {},
   "outputs": [
    {
     "data": {
      "text/html": [
       "<style  type=\"text/css\" >\n",
       "</style><table id=\"T_4a38ae68_2b9f_11eb_9f5b_84c5a68bd48a\" ><thead>    <tr>        <th class=\"blank level0\" ></th>        <th class=\"col_heading level0 col0\" >Total Count</th>        <th class=\"col_heading level0 col1\" >Percentage of Offenders</th>    </tr></thead><tbody>\n",
       "                <tr>\n",
       "                        <th id=\"T_4a38ae68_2b9f_11eb_9f5b_84c5a68bd48alevel0_row0\" class=\"row_heading level0 row0\" >17-19</th>\n",
       "                        <td id=\"T_4a38ae68_2b9f_11eb_9f5b_84c5a68bd48arow0_col0\" class=\"data row0 col0\" >9545</td>\n",
       "                        <td id=\"T_4a38ae68_2b9f_11eb_9f5b_84c5a68bd48arow0_col1\" class=\"data row0 col1\" >6.96%</td>\n",
       "            </tr>\n",
       "            <tr>\n",
       "                        <th id=\"T_4a38ae68_2b9f_11eb_9f5b_84c5a68bd48alevel0_row1\" class=\"row_heading level0 row1\" >20-29</th>\n",
       "                        <td id=\"T_4a38ae68_2b9f_11eb_9f5b_84c5a68bd48arow1_col0\" class=\"data row1 col0\" >47517</td>\n",
       "                        <td id=\"T_4a38ae68_2b9f_11eb_9f5b_84c5a68bd48arow1_col1\" class=\"data row1 col1\" >34.66%</td>\n",
       "            </tr>\n",
       "            <tr>\n",
       "                        <th id=\"T_4a38ae68_2b9f_11eb_9f5b_84c5a68bd48alevel0_row2\" class=\"row_heading level0 row2\" >30-39</th>\n",
       "                        <td id=\"T_4a38ae68_2b9f_11eb_9f5b_84c5a68bd48arow2_col0\" class=\"data row2 col0\" >38980</td>\n",
       "                        <td id=\"T_4a38ae68_2b9f_11eb_9f5b_84c5a68bd48arow2_col1\" class=\"data row2 col1\" >28.43%</td>\n",
       "            </tr>\n",
       "            <tr>\n",
       "                        <th id=\"T_4a38ae68_2b9f_11eb_9f5b_84c5a68bd48alevel0_row3\" class=\"row_heading level0 row3\" >40-49</th>\n",
       "                        <td id=\"T_4a38ae68_2b9f_11eb_9f5b_84c5a68bd48arow3_col0\" class=\"data row3 col0\" >20637</td>\n",
       "                        <td id=\"T_4a38ae68_2b9f_11eb_9f5b_84c5a68bd48arow3_col1\" class=\"data row3 col1\" >15.05%</td>\n",
       "            </tr>\n",
       "            <tr>\n",
       "                        <th id=\"T_4a38ae68_2b9f_11eb_9f5b_84c5a68bd48alevel0_row4\" class=\"row_heading level0 row4\" >50-59</th>\n",
       "                        <td id=\"T_4a38ae68_2b9f_11eb_9f5b_84c5a68bd48arow4_col0\" class=\"data row4 col0\" >15469</td>\n",
       "                        <td id=\"T_4a38ae68_2b9f_11eb_9f5b_84c5a68bd48arow4_col1\" class=\"data row4 col1\" >11.28%</td>\n",
       "            </tr>\n",
       "            <tr>\n",
       "                        <th id=\"T_4a38ae68_2b9f_11eb_9f5b_84c5a68bd48alevel0_row5\" class=\"row_heading level0 row5\" >60-69</th>\n",
       "                        <td id=\"T_4a38ae68_2b9f_11eb_9f5b_84c5a68bd48arow5_col0\" class=\"data row5 col0\" >4407</td>\n",
       "                        <td id=\"T_4a38ae68_2b9f_11eb_9f5b_84c5a68bd48arow5_col1\" class=\"data row5 col1\" >3.21%</td>\n",
       "            </tr>\n",
       "            <tr>\n",
       "                        <th id=\"T_4a38ae68_2b9f_11eb_9f5b_84c5a68bd48alevel0_row6\" class=\"row_heading level0 row6\" >70+</th>\n",
       "                        <td id=\"T_4a38ae68_2b9f_11eb_9f5b_84c5a68bd48arow6_col0\" class=\"data row6 col0\" >535</td>\n",
       "                        <td id=\"T_4a38ae68_2b9f_11eb_9f5b_84c5a68bd48arow6_col1\" class=\"data row6 col1\" >0.39%</td>\n",
       "            </tr>\n",
       "    </tbody></table>"
      ],
      "text/plain": [
       "<pandas.io.formats.style.Styler at 0x1af17c76e80>"
      ]
     },
     "execution_count": 37,
     "metadata": {},
     "output_type": "execute_result"
    }
   ],
   "source": [
    "age_bins = [0, 19, 29, 39.90, 49.90, 59.90, 69.90, 99999]\n",
    "group_names = [\"17-19\", \"20-29\", \"30-39\", \"40-49\", \"50-59\", \"60-69\", \"70+\"]\n",
    "clean_offender_df[\"Age Group\"] = pd.cut(clean_offender_df[\"AGE\"],age_bins, labels=group_names, right=True, include_lowest=False)\n",
    "clean_offender_df\n",
    "age_group = clean_offender_df.groupby(\"Age Group\").count()[\"AGE\"]\n",
    "age_group\n",
    "total = clean_offender_df[\"AGE\"].count()\n",
    "\n",
    "percent_age = (age_group/total)\n",
    "\n",
    "age_demo = pd.DataFrame({\"Total Count\": age_group, \"Percentage of Offenders\": percent_age})\n",
    "age_demo.index.name = None\n",
    "age_demo = age_demo.style.format({\"Percentage of Offenders\":\"{:.2%}\"})\n",
    "\n",
    "age_demo"
   ]
  },
  {
   "cell_type": "code",
   "execution_count": 38,
   "metadata": {},
   "outputs": [
    {
     "data": {
      "image/png": "[encoded data removed]",
      "text/plain": [
       "<Figure size 432x288 with 1 Axes>"
      ]
     },
     "metadata": {},
     "output_type": "display_data"
    }
   ],
   "source": [
    "plt.pie(age_group.values,autopct=\"%1.1f%%\", shadow=True, labels=age_group.index.values)\n",
    "plt.legend()\n",
    "plt.axis(\"equal\")\n",
    "plt.title(\"Age Group by Offense Percent\")\n",
    "plt.show()"
   ]
  },
  {
   "cell_type": "code",
   "execution_count": 51,
   "metadata": {},
   "outputs": [
    {
     "name": "stdout",
     "output_type": "stream",
     "text": [
      "OFFENSE-DESC    Drug Arrest\n",
      "dtype: object\n",
      "OFFENSE-DESC    Drug Arrest\n",
      "dtype: object\n",
      "OFFENSE-DESC    Drug Arrest\n",
      "dtype: object\n",
      "OFFENSE-DESC    TABC-Liquor Law Violation\n",
      "dtype: object\n",
      "OFFENSE-DESC    TABC-Liquor Law Violation\n",
      "dtype: object\n",
      "OFFENSE-DESC    TABC-Liquor Law Violation\n",
      "dtype: object\n",
      "OFFENSE-DESC    TABC-Liquor Law Violation\n",
      "dtype: object\n"
     ]
    }
   ],
   "source": [
    "#offenses = clean_offender_df[[\"AGE\", \"OFFENSE-DESC\"]]\n",
    "top_offenses = clean_offender_df.groupby([\"Age Group\"])[\"OFFENSE-DESC\"].value_counts()\n",
    "# offense_count = top_offenses.count()[\"INCIDENT_NUM\"]\n",
    "\n",
    "most_popular_offenses = pd.DataFrame(top_offenses)\n",
    "\n",
    "teen_age = most_popular_offenses.loc[\"17-19\",:]\n",
    "top_teen = teen_age.idxmax()\n",
    "print(top_teen)\n",
    "\n",
    "twenty_age = most_popular_offenses.loc[\"20-29\",:]\n",
    "top_twenty = twenty_age.idxmax()\n",
    "print(top_twenty)\n",
    "\n",
    "thirty_age = most_popular_offenses.loc[\"30-39\",:]\n",
    "top_thirty = thirty_age.idxmax()\n",
    "print(top_thirty)\n",
    "\n",
    "forty_age = most_popular_offenses.loc[\"40-49\",:]\n",
    "top_forty = forty_age.idxmax()\n",
    "print(top_forty)\n",
    "\n",
    "fifty_age = most_popular_offenses.loc[\"50-59\",:]\n",
    "top_fifty = fifty_age.idxmax()\n",
    "print(top_fifty)\n",
    "\n",
    "sixty_age= most_popular_offenses.loc[\"60-69\",:]\n",
    "top_sixty = sixty_age.idxmax()\n",
    "print(top_sixty)\n",
    "\n",
    "seventy_age = most_popular_offenses.loc[\"70+\",:]\n",
    "top_seventy = seventy_age.idxmax()\n",
    "print(top_seventy)"
   ]
  },
  {
   "cell_type": "code",
   "execution_count": 32,
   "metadata": {},
   "outputs": [
    {
     "name": "stdout",
     "output_type": "stream",
     "text": [
      "OFFENSE-DESC                  Drug Arrest\n",
      "OFFENSE-DESC                  Drug Arrest\n",
      "OFFENSE-DESC                  Drug Arrest\n",
      "OFFENSE-DESC    TABC-Liquor Law Violation\n",
      "OFFENSE-DESC    TABC-Liquor Law Violation\n",
      "OFFENSE-DESC    TABC-Liquor Law Violation\n",
      "OFFENSE-DESC    TABC-Liquor Law Violation\n",
      "dtype: object\n"
     ]
    }
   ],
   "source": [
    "df1 = [top_teen, top_twenty, top_thirty, top_forty, top_fifty, top_sixty, top_seventy]\n",
    "all_age = pd.concat(df1, axis = 0)\n",
    "print(all_age)"
   ]
  },
  {
   "cell_type": "code",
   "execution_count": null,
   "metadata": {},
   "outputs": [],
   "source": [
    "# gender_stats = clean_offender_df.groupby('SEX')\n",
    "# total_count_gender = gender_stats.nunique()['INCIDENT_NUM']\n",
    "\n",
    "# percentage_of_offender = total_count_gender / total_crime\n",
    "\n",
    "# gender_demo = pd.DataFrame({\"Total Count\": total_count_gender, \"Percentage of Offender\": percentage_of_offender})\n",
    "\n",
    "# gender_demo.index.name = None\n",
    "\n",
    "# gender_demo = gender_demo.sort_values([\"Total Count\"], ascending = False).style.format({\"Percentage of Offender\":\"{:.2%}\"})\n",
    "# gender_demo"
   ]
  }
 ],
 "metadata": {
  "kernelspec": {
   "display_name": "Python 3",
   "language": "python",
   "name": "python3"
  },
  "language_info": {
   "codemirror_mode": {
    "name": "ipython",
    "version": 3
   },
   "file_extension": ".py",
   "mimetype": "text/x-python",
   "name": "python",
   "nbconvert_exporter": "python",
   "pygments_lexer": "ipython3",
   "version": "3.8.3"
  }
 },
 "nbformat": 4,
 "nbformat_minor": 4
}
